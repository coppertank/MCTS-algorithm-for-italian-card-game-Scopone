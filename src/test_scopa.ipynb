{
 "cells": [
  {
   "cell_type": "code",
   "execution_count": 2,
   "metadata": {
    "colab": {
     "base_uri": "https://localhost:8080/"
    },
    "id": "q1Fv3Yv2r3Jl",
    "outputId": "045ce9a4-6638-4b18-dd13-7759be5ea1d2"
   },
   "outputs": [
    {
     "data": {
      "text/plain": [
       "26"
      ]
     },
     "execution_count": 2,
     "metadata": {},
     "output_type": "execute_result"
    }
   ],
   "source": [
    "#print((4,4)==(4,3))\n",
    "#c= (4,3)\n",
    "#c[0] #valore carta\n",
    "#c[1] #seme carta\n",
    "\n",
    "max_value_move= {(1, 1): 26, (2, 1): 22, (3, 1): 23, (4, 1): 24}\n",
    "#print(max_value_move.keys())\n",
    "#print(max(max_value_move.values()))\n",
    "#print(max(max_value_move))\n",
    "#print(max(max_value_move, key=max_value_move.get))\n",
    "values_cards={(10,12):26}\n",
    "#max_value_move[values_cards.keys()]= values_cards.values()\n",
    "#max_value_move\n",
    "#max_value_move[(5, 1)]=25\n",
    "#max_value_move\n",
    "values.get((1, 1))"
   ]
  },
  {
   "cell_type": "code",
   "execution_count": 3,
   "metadata": {
    "colab": {
     "base_uri": "https://localhost:8080/"
    },
    "id": "fJTNTyeeUXK4",
    "outputId": "705ef752-f477-40e2-d90e-a11fb62a8746"
   },
   "outputs": [
    {
     "name": "stdout",
     "output_type": "stream",
     "text": [
      "1\n"
     ]
    }
   ],
   "source": [
    "my_list = []\n",
    "my_list.append((1,3))\n",
    "#my_list.append(4)\n",
    "last_element = my_list[-1][0]\n",
    "print(last_element)"
   ]
  },
  {
   "cell_type": "code",
   "execution_count": 1,
   "metadata": {
    "id": "iDrY_FagQjkN"
   },
   "outputs": [],
   "source": [
    "import random\n",
    "import copy\n",
    "\n",
    "# denari = 1\n",
    "# coppe = 2\n",
    "# spade = 3\n",
    "# bastoni = 4\n",
    "\n",
    "values = {(1, 1): 26, (2, 1): 22, (3, 1): 23, (4, 1): 24, (5, 1): 25, (6, 1): 28, (7, 1): 139, (8, 1): 20, (9, 1): 20, (10, 1): 139,\n",
    "          (1, 2): 16, (2, 2): 12, (3, 2): 13, (4, 2): 14, (5, 2): 15, (6, 2): 18, (7, 2): 29, (8, 2): 10, (9, 2): 10, (10, 2): 10,\n",
    "          (1, 3): 16, (2, 3): 12, (3, 3): 13, (4, 3): 14, (5, 3): 15, (6, 3): 18, (7, 3): 29, (8, 3): 10, (9, 3): 10, (10, 3): 10,\n",
    "          (1, 4): 16, (2, 4): 12, (3, 4): 13, (4, 4): 14, (5, 4): 15, (6, 4): 18, (7, 4): 29, (8, 4): 10, (9, 4): 10, (10, 4): 10}"
   ]
  },
  {
   "cell_type": "code",
   "execution_count": 5,
   "metadata": {
    "colab": {
     "base_uri": "https://localhost:8080/"
    },
    "id": "En4IooYUrm5u",
    "outputId": "4169384e-7bf2-4ad9-8ca4-edd1d0298924"
   },
   "outputs": [
    {
     "name": "stdout",
     "output_type": "stream",
     "text": [
      "(2, 3)\n",
      "(3, 4)\n",
      "(2, 3)\n",
      "(3, 4)\n",
      "(2, 3)\n",
      "(3, 4)\n",
      "(2, 3)\n",
      "(3, 4)\n",
      "(2, 3)\n",
      "(3, 4)\n",
      "(2, 3)\n",
      "(3, 4)\n"
     ]
    },
    {
     "data": {
      "text/plain": [
       "(1, 1)"
      ]
     },
     "execution_count": 5,
     "metadata": {},
     "output_type": "execute_result"
    }
   ],
   "source": [
    "#Greedy strategy base\n",
    "\n",
    "def get_best_value_card(possible_captures, values_cards):\n",
    "    #move[2] -> valori delle carte nella tavola che matchano con quella specifica carta\n",
    "    if possible_captures:\n",
    "        max_value_move= {}\n",
    "        for move in possible_captures:\n",
    "            for key,value in values_cards.items():\n",
    "                if (move[0],move[1]) == key:\n",
    "                    max_value_move[key]= value + move[2]\n",
    "        return max(max_value_move, key=max_value_move.get) #ricordati di sistamarla perchè deve restituitre 0 se non ci sono match\n",
    "    return 0\n",
    "\n",
    "def get_worst_value_card_hand(hand, values_cards):\n",
    "    #la tua mano avrà sempre almeno una carta\n",
    "    min_value_move= {}\n",
    "    for move in hand:\n",
    "        for key,value in values_cards.items():\n",
    "            if move == key:\n",
    "                min_value_move[key]= value\n",
    "    return min(min_value_move, key=min_value_move.get)\n",
    "\n",
    "# da implementare una funzione che controlla se c'è il valore identico della mano sula tavola\n",
    "\n",
    "def get_match_card_table(value_card, table): #se esiste la carta in quella tavola me la restituisce\n",
    "    for table_card in table:\n",
    "        if value_card== table_card[0]:\n",
    "            return (value_card, table_card[1])\n",
    "    return (0,0)\n",
    "\n",
    "def sub_sum_card(card, table):\n",
    "    # ipotizzo che ci sia solo una combo multipla di carte\n",
    "    value_current_card = card[0]\n",
    "    i=1\n",
    "    j=value_current_card-1\n",
    "    acc= []\n",
    "    final_combo_card =[]\n",
    "    sum =0\n",
    "    best_value_combo_cards = []\n",
    "    while i<j:\n",
    "        if get_match_card_table(i,table) !=(0,0):\n",
    "            if get_match_card_table(j,table) !=(0,0):\n",
    "                final_combo_card.append((get_match_card_table(i,table),get_match_card_table(j,table)))\n",
    "            else:\n",
    "                acc.append(get_match_card_table(i,table))\n",
    "                sum += acc[-1][0]\n",
    "        else:\n",
    "            if sum + get_match_card_table(j,table)[0] == card[0]:\n",
    "                final_combo_card.append(acc[0],acc[1],get_match_card_table(j,table))\n",
    "        i += 1\n",
    "        j -=1\n",
    "    acc =[]\n",
    "    if final_combo_card:\n",
    "        for x in final_combo_card:\n",
    "            sum =0\n",
    "            for card in x:\n",
    "                print(card)\n",
    "                sum += values.get(card)\n",
    "            acc.append(sum)\n",
    "        if acc:\n",
    "            return max(acc)\n",
    "    return 0\n",
    "\n",
    "\n",
    "def best_move(hand, table):\n",
    "    possible_captures=[]\n",
    "    for card in hand:\n",
    "        sum_matching_values =0\n",
    "        a = card[0]\n",
    "        # da richiamarla qua\n",
    "        for table_card in table:\n",
    "            if card[0]== table_card[0]:\n",
    "                sum_matching_values = values.get(table_card)\n",
    "                possible_captures.append((card[0],card[1], sum_matching_values))\n",
    "            else:\n",
    "                if sub_sum_card(card, table) != 0:\n",
    "                    sum_matching_values = sub_sum_card(card, table)\n",
    "                    possible_captures.append((card[0],card[1], sum_matching_values))\n",
    "    if get_best_value_card(possible_captures, values) ==0:\n",
    "        #metti sulla tavola la carta con meno valore che hai in mano\n",
    "        return get_worst_value_card_hand(hand, values)\n",
    "    return get_best_value_card(possible_captures, values)\n",
    "\n",
    "table = [(2, 3), (3, 4), (1, 1)]\n",
    "hand = [(6, 4), (8,1), (1, 1), (7, 1), (5, 1)]\n",
    "#a = get_best_value_card([], values_cards)\n",
    "#print(a)\n",
    "moves = best_move(hand, table)\n",
    "\n",
    "moves"
   ]
  }
 ],
 "metadata": {
  "colab": {
   "provenance": []
  },
  "kernelspec": {
   "display_name": "Python 3",
   "name": "python3"
  },
  "language_info": {
   "codemirror_mode": {
    "name": "ipython",
    "version": 3
   },
   "file_extension": ".py",
   "mimetype": "text/x-python",
   "name": "python",
   "nbconvert_exporter": "python",
   "pygments_lexer": "ipython3",
   "version": "3.10.11"
  }
 },
 "nbformat": 4,
 "nbformat_minor": 0
}
